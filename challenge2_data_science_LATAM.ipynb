{
  "nbformat": 4,
  "nbformat_minor": 0,
  "metadata": {
    "colab": {
      "provenance": [],
      "authorship_tag": "ABX9TyOkMcpfTpsqSaJzB9J2+7r/",
      "include_colab_link": true
    },
    "kernelspec": {
      "name": "python3",
      "display_name": "Python 3"
    },
    "language_info": {
      "name": "python"
    }
  },
  "cells": [
    {
      "cell_type": "markdown",
      "metadata": {
        "id": "view-in-github",
        "colab_type": "text"
      },
      "source": [
        "<a href=\"https://colab.research.google.com/github/jaimesierrab/Challenge-Amigo-secreto/blob/master/challenge2_data_science_LATAM.ipynb\" target=\"_parent\"><img src=\"https://colab.research.google.com/assets/colab-badge.svg\" alt=\"Open In Colab\"/></a>"
      ]
    },
    {
      "cell_type": "markdown",
      "source": [],
      "metadata": {
        "id": "1LEcK3IKhdRI"
      }
    },
    {
      "cell_type": "code",
      "execution_count": 6,
      "metadata": {
        "colab": {
          "base_uri": "https://localhost:8080/"
        },
        "id": "WIs5tszcggDL",
        "outputId": "805e81ac-7dba-40da-9e26-5a07af1ce52a"
      },
      "outputs": [
        {
          "output_type": "stream",
          "name": "stdout",
          "text": [
            "Pandas: 2.2.2\n",
            "Numpy: 2.0.2\n",
            "Seaborn: 0.13.2\n",
            "3.10.0\n"
          ]
        }
      ],
      "source": [
        "# Manipulación de datos\n",
        "import pandas as pd\n",
        "import numpy as np\n",
        "\n",
        "# Visualización de datos\n",
        "import seaborn as sns\n",
        "import matplotlib.pyplot as plt\n",
        "\n",
        "# Manejo de JSON anidado\n",
        "import json\n",
        "\n",
        "import matplotlib\n",
        "\n",
        "# Configuraciones opcionales para visualización\n",
        "import warnings\n",
        "warnings.filterwarnings(\"ignore\")\n",
        "sns.set(style=\"whitegrid\", palette=\"pastel\")\n",
        "plt.rcParams[\"figure.figsize\"] = (10, 6)\n",
        "\n",
        "# Comprobación de versiones (opcional)\n",
        "print(f\"Pandas: {pd.__version__}\")\n",
        "print(f\"Numpy: {np.__version__}\")\n",
        "print(f\"Seaborn: {sns.__version__}\")\n",
        "#print(f\"Matplotlib: {plt.__version__}\")\n",
        "print(matplotlib.__version__)"
      ]
    },
    {
      "cell_type": "code",
      "source": [
        "url='https://raw.githubusercontent.com/alura-cursos/challenge2-data-science-LATAM/refs/heads/main/TelecomX_Data.json'"
      ],
      "metadata": {
        "id": "oV1IsaYYhm42"
      },
      "execution_count": 5,
      "outputs": []
    },
    {
      "cell_type": "code",
      "source": [],
      "metadata": {
        "id": "-DItvIm5kQzA"
      },
      "execution_count": null,
      "outputs": []
    }
  ]
}